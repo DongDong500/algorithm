{
 "cells": [
  {
   "cell_type": "markdown",
   "metadata": {},
   "source": [
    "#### Deque"
   ]
  },
  {
   "cell_type": "code",
   "execution_count": 5,
   "metadata": {},
   "outputs": [],
   "source": [
    "\"\"\"\n",
    "queue (FIFO)\n",
    "deque (double-ended queue)\n",
    "\"\"\"\n",
    "\n",
    "class Deque:\n",
    "    def __init__(self):\n",
    "        self.items = []\n",
    "\n",
    "    def isEmpty(self):\n",
    "        return self.items == []\n",
    "\n",
    "    def addFront(self, item):\n",
    "        self.items.append(item)\n",
    "\n",
    "    def addRear(self, item):\n",
    "        # insert(0, item): adds a new item to the front of the list.\n",
    "        # or inserts an element to the list at the specified index.\n",
    "        self.items.insert(0,item)\n",
    "\n",
    "    def removeFront(self):\n",
    "        # pop(): remove the last element from the list. \n",
    "        return self.items.pop()\n",
    "\n",
    "    def removeRear(self):\n",
    "        # pop(n): remove n-th element from the list.\n",
    "        return self.items.pop(0)\n",
    "\n",
    "    def size(self):\n",
    "        return len(self.items)\n",
    "\n",
    "from collections import deque\n",
    "\n",
    "deq = deque()\n",
    "\n",
    "# Add element to the start\n",
    "deq.appendleft(10)"
   ]
  },
  {
   "cell_type": "code",
   "execution_count": 6,
   "metadata": {},
   "outputs": [],
   "source": [
    "# Add element to the end\n",
    "deq.append(0)"
   ]
  },
  {
   "cell_type": "code",
   "execution_count": 7,
   "metadata": {},
   "outputs": [
    {
     "data": {
      "text/plain": [
       "10"
      ]
     },
     "execution_count": 7,
     "metadata": {},
     "output_type": "execute_result"
    }
   ],
   "source": [
    "# Pop element from the start\n",
    "deq.popleft()"
   ]
  },
  {
   "cell_type": "code",
   "execution_count": 8,
   "metadata": {},
   "outputs": [
    {
     "data": {
      "text/plain": [
       "0"
      ]
     },
     "execution_count": 8,
     "metadata": {},
     "output_type": "execute_result"
    }
   ],
   "source": [
    "# Pop element from the end\n",
    "deq.pop()"
   ]
  },
  {
   "cell_type": "code",
   "execution_count": 10,
   "metadata": {},
   "outputs": [
    {
     "name": "stdout",
     "output_type": "stream",
     "text": [
      "pop: 6\n"
     ]
    }
   ],
   "source": [
    "arr = [1, 2, 3, 4, 5, 6]\n",
    "\n",
    "print(\"pop:\", arr.pop())"
   ]
  },
  {
   "cell_type": "code",
   "execution_count": 11,
   "metadata": {},
   "outputs": [
    {
     "name": "stdout",
     "output_type": "stream",
     "text": [
      "1 2 4 3 \n",
      "1 2 3 4 "
     ]
    }
   ],
   "source": [
    "from collections import deque\n",
    "import sys\n",
    " \n",
    "sys.setrecursionlimit(1000000)\n",
    " \n",
    "def DFS(v):\n",
    "    print(str(v), end=\" \")\n",
    "    for i in range(1, N+1):\n",
    "        if MAP[v][i] == 1 and check[i] is False:\n",
    "            check[i] = True\n",
    "            DFS(i)\n",
    " \n",
    "def BFS(v):\n",
    "    Q = deque([])\n",
    "    Q.append(v)\n",
    " \n",
    "    while Q:\n",
    "        x = Q.popleft()\n",
    "        if check_BFS[x] is False:\n",
    "            check_BFS[x] = True\n",
    "            print(x, end=\" \")\n",
    "            for i in range(1, N+1):\n",
    "                if MAP[x][i] == 1 and check_BFS[i] is False:\n",
    "                    Q.append(i)\n",
    " \n",
    "N, M, V = map(int, input().split())  # 정점, 간선, 탐색 시작 vertex\n",
    "MAP = [[0] * (N+1) for _ in range(N+1)]\n",
    "check = [False] * (N+1)\n",
    "check_BFS = [False] * (N+1)\n",
    " \n",
    "for i in range(M):\n",
    "    start, end = map(int, input().split())\n",
    "    MAP[start][end] = 1\n",
    "    MAP[end][start] = 1\n",
    " \n",
    "check[V] = True\n",
    "DFS(V)\n",
    "print()\n",
    "BFS(V)"
   ]
  },
  {
   "cell_type": "code",
   "execution_count": 18,
   "metadata": {},
   "outputs": [
    {
     "data": {
      "text/plain": [
       "{1, 2}"
      ]
     },
     "execution_count": 18,
     "metadata": {},
     "output_type": "execute_result"
    }
   ],
   "source": [
    "d = {\n",
    "\n",
    "}\n",
    "    \n",
    "d[1] = set([2])\n",
    "d[1].union(set([1]))"
   ]
  },
  {
   "cell_type": "code",
   "execution_count": 19,
   "metadata": {},
   "outputs": [
    {
     "data": {
      "text/plain": [
       "{1: {2}}"
      ]
     },
     "execution_count": 19,
     "metadata": {},
     "output_type": "execute_result"
    }
   ],
   "source": [
    "d"
   ]
  },
  {
   "cell_type": "code",
   "execution_count": 39,
   "metadata": {},
   "outputs": [
    {
     "data": {
      "text/plain": [
       "deque([1, 2, 3, 4, 5, 6])"
      ]
     },
     "execution_count": 39,
     "metadata": {},
     "output_type": "execute_result"
    }
   ],
   "source": [
    "from collections import deque\n",
    "\n",
    "a = [1, 2, 3]\n",
    "b = [4, 5, 6]\n",
    "\n",
    "b.sort()\n",
    "deque(set(a)) + deque(set(b))"
   ]
  },
  {
   "cell_type": "code",
   "execution_count": 23,
   "metadata": {},
   "outputs": [],
   "source": [
    "G = {\n",
    "\n",
    "}\n",
    "\n",
    "# vertex, edge, starting vertex\n",
    "N, M, V = map(int, input().split())\n",
    "\n",
    "# initialize graph\n",
    "for i in range(N):\n",
    "    G.update({ i+1 : set([])})\n"
   ]
  },
  {
   "cell_type": "code",
   "execution_count": 24,
   "metadata": {},
   "outputs": [
    {
     "data": {
      "text/plain": [
       "{1: set(), 2: set(), 3: set(), 4: set()}"
      ]
     },
     "execution_count": 24,
     "metadata": {},
     "output_type": "execute_result"
    }
   ],
   "source": [
    "G"
   ]
  }
 ],
 "metadata": {
  "kernelspec": {
   "display_name": "medsam",
   "language": "python",
   "name": "python3"
  },
  "language_info": {
   "codemirror_mode": {
    "name": "ipython",
    "version": 3
   },
   "file_extension": ".py",
   "mimetype": "text/x-python",
   "name": "python",
   "nbconvert_exporter": "python",
   "pygments_lexer": "ipython3",
   "version": "3.10.11"
  },
  "orig_nbformat": 4
 },
 "nbformat": 4,
 "nbformat_minor": 2
}
