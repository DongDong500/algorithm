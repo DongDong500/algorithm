{
 "cells": [
  {
   "cell_type": "markdown",
   "metadata": {},
   "source": [
    "#### Deque"
   ]
  },
  {
   "cell_type": "code",
   "execution_count": 10,
   "metadata": {},
   "outputs": [
    {
     "name": "stdout",
     "output_type": "stream",
     "text": [
      "initial state: deque([1, 2, 3, 4, 5])\n",
      "after add 10 at left: deque([10, 1, 2, 3, 4, 5])\n",
      "pop left: 10\n"
     ]
    }
   ],
   "source": [
    "from collections import deque\n",
    "\n",
    "\"\"\"\n",
    "deque.append(item): item을 데크의 오른쪽 끝에 삽입한다.\n",
    "deque.appendleft(item): item을 데크의 왼쪽 끝에 삽입한다.\n",
    "deque.pop(): 데크의 오른쪽 끝 엘리먼트를 가져오는 동시에 데크에서 삭제한다.\n",
    "deque.popleft(): 데크의 왼쪽 끝 엘리먼트를 가져오는 동시에 데크에서 삭제한다.\n",
    "\n",
    "deque.extend(array): 주어진 배열(array)을 순환하면서 데크의 오른쪽에 추가한다.\n",
    "deque.extendleft(array): 주어진 배열(array)을 순환하면서 데크의 왼쪽에 추가한다.\n",
    "\n",
    "deque.remove(item): item을 데크에서 찾아 삭제한다.\n",
    "deque.rotate(num): 데크를 num만큼 회전한다(양수면 오른쪽, 음수면 왼쪽).\n",
    "\"\"\"\n",
    "\n",
    "# Contain 1, 2, 3, 4, 5 in deq\n",
    "deq = deque([1, 2, 3, 4, 5])\n",
    "print(\"initial state:\", deq)\n",
    "\n",
    "# Add element to the start\n",
    "deq.appendleft(10)\n",
    "print(\"after add 10 at left:\", deq)\n",
    "\n",
    "print(\"pop left:\", deq.popleft())"
   ]
  },
  {
   "cell_type": "code",
   "execution_count": 20,
   "metadata": {},
   "outputs": [],
   "source": [
    "\"\"\"\n",
    "DFS/BFS\n",
    "\"\"\"\n",
    "from collections import deque\n",
    "\n",
    "def DFS(G, root):\n",
    "    visited = []\n",
    "    stack = deque([root])\n",
    "\n",
    "    while stack:\n",
    "        n = stack.popleft()\n",
    "        if n not in visited:\n",
    "            visited.append(n)\n",
    "            for idx in reversed(list(G[n] - set(visited))):\n",
    "                stack.appendleft(idx)\n",
    "\n",
    "    return visited\n",
    "\n",
    "def BFS(G, root):\n",
    "    visited = []\n",
    "    queue = deque([root])\n",
    "\n",
    "    while queue:\n",
    "        n = queue.pop()\n",
    "        if n not in visited:\n",
    "            visited.append(n)\n",
    "            for idx in sorted(list(G[n] - set(visited))):\n",
    "                queue.appendleft(idx)\n",
    "\n",
    "    return visited"
   ]
  },
  {
   "cell_type": "code",
   "execution_count": 22,
   "metadata": {},
   "outputs": [
    {
     "name": "stdout",
     "output_type": "stream",
     "text": [
      "DFS: [1, 2, 4, 5, 8, 9, 10, 11, 3, 6, 7]\n",
      "BFS: [1, 2, 3, 4, 5, 6, 7, 8, 9, 10, 11]\n"
     ]
    }
   ],
   "source": [
    "G = {\n",
    "        1 : set([2, 3]),\n",
    "        2 : set([4, 5]),\n",
    "        3 : set([6, 7]),\n",
    "        4 : set([]),\n",
    "        5 : set([8, 9]),\n",
    "        6 : set([]),\n",
    "        7 : set([]),\n",
    "        8 : set([]),\n",
    "        9 : set([10, 11]),\n",
    "        10 : set([]),\n",
    "        11 : set([])\n",
    "    }\n",
    "    \n",
    "print(\"DFS:\", DFS(G, 1))\n",
    "print(\"BFS:\", BFS(G, 1))"
   ]
  },
  {
   "cell_type": "code",
   "execution_count": 5,
   "metadata": {},
   "outputs": [],
   "source": [
    "\"\"\"\n",
    "queue (FIFO)\n",
    "deque (double-ended queue)\n",
    "\"\"\"\n",
    "\n",
    "class Deque:\n",
    "    def __init__(self):\n",
    "        self.items = []\n",
    "\n",
    "    def isEmpty(self):\n",
    "        return self.items == []\n",
    "\n",
    "    def addFront(self, item):\n",
    "        self.items.append(item)\n",
    "\n",
    "    def addRear(self, item):\n",
    "        # insert(0, item): adds a new item to the front of the list.\n",
    "        # or inserts an element to the list at the specified index.\n",
    "        self.items.insert(0,item)\n",
    "\n",
    "    def removeFront(self):\n",
    "        # pop(): remove the last element from the list. \n",
    "        return self.items.pop()\n",
    "\n",
    "    def removeRear(self):\n",
    "        # pop(n): remove n-th element from the list.\n",
    "        return self.items.pop(0)\n",
    "\n",
    "    def size(self):\n",
    "        return len(self.items)"
   ]
  },
  {
   "cell_type": "markdown",
   "metadata": {},
   "source": [
    "#### Set operations"
   ]
  },
  {
   "cell_type": "code",
   "execution_count": 51,
   "metadata": {},
   "outputs": [
    {
     "name": "stdout",
     "output_type": "stream",
     "text": [
      "A: {1, 2, 3, 4, 5, 6} B: {4, 5, 6, 7, 8}\n",
      "Union: {1, 2, 3, 4, 5, 6, 7, 8}\n",
      "Intersection: {4, 5, 6}\n",
      "Difference: {1, 2, 3}\n",
      "xor: {1, 2, 3, 7, 8}\n"
     ]
    }
   ],
   "source": [
    "a = [1, 2, 3, 4, 5, 6]\n",
    "b = [4, 5, 6, 7, 8]\n",
    "\n",
    "# initialize set\n",
    "A = set(a)\n",
    "B = set(b)\n",
    "print(\"A:\", A, \"B:\", B)\n",
    "# Union\n",
    "print(\"Union:\", A | B)\n",
    "# intersection\n",
    "print(\"Intersection:\", A & B)\n",
    "# difference\n",
    "print(\"Difference:\", A - B)\n",
    "# xor\n",
    "print(\"xor:\", A^B)"
   ]
  },
  {
   "cell_type": "markdown",
   "metadata": {},
   "source": [
    "#### Dictionary"
   ]
  },
  {
   "cell_type": "code",
   "execution_count": null,
   "metadata": {},
   "outputs": [],
   "source": []
  },
  {
   "cell_type": "markdown",
   "metadata": {},
   "source": [
    "#### Dijkstra"
   ]
  },
  {
   "cell_type": "code",
   "execution_count": null,
   "metadata": {},
   "outputs": [],
   "source": []
  },
  {
   "cell_type": "code",
   "execution_count": 11,
   "metadata": {},
   "outputs": [
    {
     "name": "stdout",
     "output_type": "stream",
     "text": [
      "1 2 4 3 \n",
      "1 2 3 4 "
     ]
    }
   ],
   "source": [
    "from collections import deque\n",
    "import sys\n",
    " \n",
    "sys.setrecursionlimit(1000000)\n",
    " \n",
    "def DFS(v):\n",
    "    print(str(v), end=\" \")\n",
    "    for i in range(1, N+1):\n",
    "        if MAP[v][i] == 1 and check[i] is False:\n",
    "            check[i] = True\n",
    "            DFS(i)\n",
    " \n",
    "def BFS(v):\n",
    "    Q = deque([])\n",
    "    Q.append(v)\n",
    " \n",
    "    while Q:\n",
    "        x = Q.popleft()\n",
    "        if check_BFS[x] is False:\n",
    "            check_BFS[x] = True\n",
    "            print(x, end=\" \")\n",
    "            for i in range(1, N+1):\n",
    "                if MAP[x][i] == 1 and check_BFS[i] is False:\n",
    "                    Q.append(i)\n",
    " \n",
    "N, M, V = map(int, input().split())  # 정점, 간선, 탐색 시작 vertex\n",
    "MAP = [[0] * (N+1) for _ in range(N+1)]\n",
    "check = [False] * (N+1)\n",
    "check_BFS = [False] * (N+1)\n",
    " \n",
    "for i in range(M):\n",
    "    start, end = map(int, input().split())\n",
    "    MAP[start][end] = 1\n",
    "    MAP[end][start] = 1\n",
    " \n",
    "check[V] = True\n",
    "DFS(V)\n",
    "print()\n",
    "BFS(V)"
   ]
  },
  {
   "cell_type": "code",
   "execution_count": 18,
   "metadata": {},
   "outputs": [
    {
     "data": {
      "text/plain": [
       "{1, 2}"
      ]
     },
     "execution_count": 18,
     "metadata": {},
     "output_type": "execute_result"
    }
   ],
   "source": [
    "d = {\n",
    "\n",
    "}\n",
    "    \n",
    "d[1] = set([2])\n",
    "d[1].union(set([1]))"
   ]
  },
  {
   "cell_type": "code",
   "execution_count": 19,
   "metadata": {},
   "outputs": [
    {
     "data": {
      "text/plain": [
       "{1: {2}}"
      ]
     },
     "execution_count": 19,
     "metadata": {},
     "output_type": "execute_result"
    }
   ],
   "source": [
    "d"
   ]
  },
  {
   "cell_type": "code",
   "execution_count": 39,
   "metadata": {},
   "outputs": [
    {
     "data": {
      "text/plain": [
       "deque([1, 2, 3, 4, 5, 6])"
      ]
     },
     "execution_count": 39,
     "metadata": {},
     "output_type": "execute_result"
    }
   ],
   "source": [
    "from collections import deque\n",
    "\n",
    "a = [1, 2, 3]\n",
    "b = [4, 5, 6]\n",
    "\n",
    "b.sort()\n",
    "deque(set(a)) + deque(set(b))"
   ]
  },
  {
   "cell_type": "code",
   "execution_count": 23,
   "metadata": {},
   "outputs": [],
   "source": [
    "G = {\n",
    "\n",
    "}\n",
    "\n",
    "# vertex, edge, starting vertex\n",
    "N, M, V = map(int, input().split())\n",
    "\n",
    "# initialize graph\n",
    "for i in range(N):\n",
    "    G.update({ i+1 : set([])})\n"
   ]
  },
  {
   "cell_type": "code",
   "execution_count": 2,
   "metadata": {},
   "outputs": [
    {
     "data": {
      "text/plain": [
       "0"
      ]
     },
     "execution_count": 2,
     "metadata": {},
     "output_type": "execute_result"
    }
   ],
   "source": [
    "from collections import deque\n",
    "\n",
    "pnt = (0, 0)\n",
    "Q = deque((0, 0))\n",
    "Q.popleft()"
   ]
  },
  {
   "cell_type": "code",
   "execution_count": 4,
   "metadata": {},
   "outputs": [
    {
     "name": "stdout",
     "output_type": "stream",
     "text": [
      "130 65\n"
     ]
    }
   ],
   "source": [
    "from collections import deque\n",
    " \n",
    "def BFS():\n",
    "    q.append((i, j))\n",
    "    check[i][j] = 1\n",
    "    t = 1\n",
    "    while q:\n",
    "        x, y = q.popleft()\n",
    "        for k in range(4):\n",
    "            nx, ny = x + dx[k], y + dy[k]\n",
    "            if 0 <= nx < M and 0 <= ny < N and MAP[nx][ny] == MAP[x][y] and check[nx][ny] == 0:\n",
    "                check[nx][ny] = 1\n",
    "                q.append((nx, ny))\n",
    "                t += 1\n",
    "    return t\n",
    " \n",
    "# N: 가로 M : 세로\n",
    "N, M = map(int, input().split())\n",
    "MAP = [list(input()) for _ in range(M)]\n",
    "check = [[0] * N for _ in range(M)]\n",
    " \n",
    "dx,dy=[1,-1,0,0],[0,0,1,-1]\n",
    "q = deque()\n",
    "B, W = 0, 0\n",
    " \n",
    "for i in range(M):\n",
    "    for j in range(N):\n",
    "        if check[i][j] == 0:\n",
    "            ans = BFS()\n",
    "            if MAP[i][j] == 'W': W += ans ** 2\n",
    "            else: B += ans ** 2\n",
    " \n",
    "print(W, B)"
   ]
  },
  {
   "cell_type": "code",
   "execution_count": 24,
   "metadata": {},
   "outputs": [],
   "source": [
    "N, M = map(int, input().split())\n",
    "MAP = [[int(i) for i in list(input())] for _ in range(N)]"
   ]
  },
  {
   "cell_type": "code",
   "execution_count": 35,
   "metadata": {},
   "outputs": [],
   "source": [
    "arr = [[1] * 5 for _ in range(4)]"
   ]
  },
  {
   "cell_type": "code",
   "execution_count": 44,
   "metadata": {},
   "outputs": [
    {
     "data": {
      "text/plain": [
       "(1, 2)"
      ]
     },
     "execution_count": 44,
     "metadata": {},
     "output_type": "execute_result"
    }
   ],
   "source": [
    "pnt = (1, 2)\n",
    "queue = deque()\n",
    "queue.append(pnt)\n",
    "queue.pop()"
   ]
  },
  {
   "cell_type": "code",
   "execution_count": 46,
   "metadata": {},
   "outputs": [
    {
     "name": "stdout",
     "output_type": "stream",
     "text": [
      "13\n"
     ]
    }
   ],
   "source": [
    "from collections import deque\n",
    " \n",
    "N, M = map(int, input().split()) # N: 세로, M: 가로\n",
    "MAP = [[int(i) for i in list(input())] for _ in range(N)]\n",
    "check = [[0] * M for _ in range(N)]\n",
    "dx = [0, 1, 0, -1]; dy = [-1, 0, 1, 0]\n",
    " \n",
    "q = deque()\n",
    "q.append([0, 0])\n",
    "check[0][0] = 1\n",
    "while q:\n",
    "    x, y = q.popleft()\n",
    "    for i in range(4):\n",
    "        nx, ny = x + dx[i], y + dy[i]\n",
    "        if 0 <= nx < N and 0 <= ny < M and check[nx][ny] == 0 and MAP[nx][ny] == 1:\n",
    "            q.append([nx, ny])\n",
    "            check[nx][ny] = check[x][y] + 1\n",
    "print(check[-1][-1])"
   ]
  },
  {
   "cell_type": "code",
   "execution_count": 52,
   "metadata": {},
   "outputs": [],
   "source": [
    "a = [[1, 2, 3]]\n",
    "b = a"
   ]
  },
  {
   "cell_type": "code",
   "execution_count": 58,
   "metadata": {},
   "outputs": [
    {
     "data": {
      "text/plain": [
       "[5, 4, 3]"
      ]
     },
     "execution_count": 58,
     "metadata": {},
     "output_type": "execute_result"
    }
   ],
   "source": [
    "list(range(5, 2, -1))"
   ]
  }
 ],
 "metadata": {
  "kernelspec": {
   "display_name": "medsam",
   "language": "python",
   "name": "python3"
  },
  "language_info": {
   "codemirror_mode": {
    "name": "ipython",
    "version": 3
   },
   "file_extension": ".py",
   "mimetype": "text/x-python",
   "name": "python",
   "nbconvert_exporter": "python",
   "pygments_lexer": "ipython3",
   "version": "3.10.11"
  },
  "orig_nbformat": 4
 },
 "nbformat": 4,
 "nbformat_minor": 2
}
