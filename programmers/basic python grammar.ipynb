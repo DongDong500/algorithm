{
 "cells": [
  {
   "cell_type": "markdown",
   "metadata": {},
   "source": [
    "## Data Structures\n",
    "\n",
    "#### List"
   ]
  },
  {
   "cell_type": "code",
   "execution_count": 25,
   "metadata": {},
   "outputs": [
    {
     "name": "stdout",
     "output_type": "stream",
     "text": [
      "insert: [9, 8, 7, 6, 5, -5, 4, 3, 2, 1, 0]\n",
      "pop: [9, 8, 7, 6, 5, 4, 3, 2, 1, 0]\n",
      "sort: [0, 1, 2, 3, 4, 5, 6, 7, 8, 9]\n",
      "copy: [0, 1, 2, 3, 4, 'shallow copy', 5, 6, 7, 8, 9]\n",
      "shallow copy [shallow copy]: True\n",
      "type: <class 'str'>\n",
      "copy: [0, 1, 2, 3, -1, 'S copy', 5, 6, 7, 8, 9] -> [0, 1, 2, 3, 4, 'shallow copy', 5, 6, 7, 8, 9]\n"
     ]
    }
   ],
   "source": [
    "arr = [i for i in range(9, -1, -1)]\n",
    "\n",
    "# insert\n",
    "arr.insert(5, -5)\n",
    "print(\"insert:\", arr)\n",
    "# pop\n",
    "arr.pop(5)\n",
    "print(\"pop:\", arr)\n",
    "# sort\n",
    "arr.sort() # [optional] reverse=True\n",
    "print(\"sort:\", arr)\n",
    "# copy\n",
    "arr.insert(5, 'shallow copy')\n",
    "tar = arr.copy()\n",
    "print(\"copy:\", tar)\n",
    "print(f\"shallow copy [{arr[5]}]:\", id(arr[5]) == id(tar[5]))\n",
    "arr[4] += -5\n",
    "print(\"type:\", type(arr[5]))\n",
    "arr[5] = arr[5].replace('shallow', 'S')\n",
    "print(\"copy:\", arr, \"->\", tar)"
   ]
  },
  {
   "cell_type": "markdown",
   "metadata": {},
   "source": [
    "#### Shallow copy & Deep copy\n",
    "\n",
    "mutable & immutable\n",
    "\n",
    " * list, set, dict == mutable\n",
    "\n",
    " * bool, int, float, tuple, str, frozenset == immutable"
   ]
  },
  {
   "cell_type": "code",
   "execution_count": 1,
   "metadata": {},
   "outputs": [],
   "source": [
    "idx = (0, 1, 3)\n",
    "arr = [1, 3, 4, 5, 7, 8, 9]"
   ]
  },
  {
   "cell_type": "code",
   "execution_count": 4,
   "metadata": {},
   "outputs": [
    {
     "data": {
      "text/plain": [
       "[1, 3, 5]"
      ]
     },
     "execution_count": 4,
     "metadata": {},
     "output_type": "execute_result"
    }
   ],
   "source": [
    "[arr[i] for i in idx]"
   ]
  }
 ],
 "metadata": {
  "kernelspec": {
   "display_name": "Python 3",
   "language": "python",
   "name": "python3"
  },
  "language_info": {
   "codemirror_mode": {
    "name": "ipython",
    "version": 3
   },
   "file_extension": ".py",
   "mimetype": "text/x-python",
   "name": "python",
   "nbconvert_exporter": "python",
   "pygments_lexer": "ipython3",
   "version": "3.11.7"
  }
 },
 "nbformat": 4,
 "nbformat_minor": 2
}
